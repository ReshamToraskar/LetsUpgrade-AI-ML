{
  "nbformat": 4,
  "nbformat_minor": 0,
  "metadata": {
    "colab": {
      "name": "Day 6.ipynb",
      "provenance": [],
      "collapsed_sections": []
    },
    "kernelspec": {
      "name": "python3",
      "display_name": "Python 3"
    }
  },
  "cells": [
    {
      "cell_type": "markdown",
      "metadata": {
        "id": "Z4v2Jsb8kofe",
        "colab_type": "text"
      },
      "source": [
        "Question 1:\n",
        "Assuming that we have some email addresses in the \"username@companyname.com\" format, please write program\n",
        "to print the company name of a given email address. Both user names and company names are composed of letters\n",
        "only.\n"
      ]
    },
    {
      "cell_type": "code",
      "metadata": {
        "id": "sctOQEQ1V-Ci",
        "colab_type": "code",
        "colab": {
          "base_uri": "https://localhost:8080/",
          "height": 102
        },
        "outputId": "9ec37dba-119b-4f93-8286-ef34cb5974a2"
      },
      "source": [
        "def getlist(word): \n",
        "    return [char for char in word]   \n",
        "      \n",
        "word = input(\"Enter the email address: \")\n",
        "a = getlist(word)\n",
        "print(\"The list form is: \", a) \n",
        "b = word.index('@')\n",
        "print(\"The index of @ is: \", b)\n",
        "counter = 0\n",
        "for i in word:\n",
        "  counter = counter + 1\n",
        "print(\"Length of list is : \" + str(counter))\n",
        "print(\"The company name is: \", word[b+1:counter-4])"
      ],
      "execution_count": 11,
      "outputs": [
        {
          "output_type": "stream",
          "text": [
            "Enter the email address: reshamt24@gmail.com\n",
            "The list form is:  ['r', 'e', 's', 'h', 'a', 'm', 't', '2', '4', '@', 'g', 'm', 'a', 'i', 'l', '.', 'c', 'o', 'm']\n",
            "The index of @ is:  9\n",
            "Length of list is : 19\n",
            "The company name is:  gmail\n"
          ],
          "name": "stdout"
        }
      ]
    },
    {
      "cell_type": "markdown",
      "metadata": {
        "id": "_sB2kkBfkuCi",
        "colab_type": "text"
      },
      "source": [
        "Question 2:\n",
        "Write a program that accepts a comma-separated sequence of words as input and prints the words in a comma separated sequence after sorting them alphabetically"
      ]
    },
    {
      "cell_type": "code",
      "metadata": {
        "id": "8u4UbLlUn9ZU",
        "colab_type": "code",
        "colab": {
          "base_uri": "https://localhost:8080/",
          "height": 68
        },
        "outputId": "ea7708e8-8e31-4eca-d196-75f56292dd85"
      },
      "source": [
        "words = input(\"enter any 4 words: \")\n",
        "a = words.split()\n",
        "print(a)\n",
        "for i in a:\n",
        "  a.sort()\n",
        "print(a)"
      ],
      "execution_count": null,
      "outputs": [
        {
          "output_type": "stream",
          "text": [
            "enter any 4 words: red fall van kite\n",
            "['red', 'fall', 'van', 'kite']\n",
            "['fall', 'kite', 'red', 'van']\n"
          ],
          "name": "stdout"
        }
      ]
    },
    {
      "cell_type": "markdown",
      "metadata": {
        "id": "Zq2y_XILlHzQ",
        "colab_type": "text"
      },
      "source": [
        "Question 3:\n",
        "Create your own Jupyter Notebook for Sets"
      ]
    },
    {
      "cell_type": "code",
      "metadata": {
        "id": "qK4CAxME-iZi",
        "colab_type": "code",
        "colab": {
          "base_uri": "https://localhost:8080/",
          "height": 34
        },
        "outputId": "e07e671f-65d3-4592-bdb7-f845c7149b32"
      },
      "source": [
        "my_set = {1,2,\"resh\",\"van\",34,28}\n",
        "print(my_set)"
      ],
      "execution_count": null,
      "outputs": [
        {
          "output_type": "stream",
          "text": [
            "{1, 2, 34, 'van', 'resh', 28}\n"
          ],
          "name": "stdout"
        }
      ]
    },
    {
      "cell_type": "markdown",
      "metadata": {
        "id": "-TlGPMrxlIks",
        "colab_type": "text"
      },
      "source": [
        "Question 4:\n",
        "Given a list of n-1 numbers ranging from 1 to n, your task is to find the missing number. There are no duplicates.\n"
      ]
    },
    {
      "cell_type": "code",
      "metadata": {
        "id": "bUn9O6PQEwHj",
        "colab_type": "code",
        "colab": {
          "base_uri": "https://localhost:8080/",
          "height": 153
        },
        "outputId": "7502ced8-afd7-41b5-a9ac-e2389433c03e"
      },
      "source": [
        "def missing_number(l): \n",
        "     for i in range(l[0], l[-1]+1):\n",
        "       if i not in l:\n",
        "          return i\n",
        "l = []\n",
        "my_no = int (input(\"Enter number of elements: \"))\n",
        "for x in range(0, my_no): \n",
        "    ele = int(input()) \n",
        "    l.append(ele)   \n",
        "print(l)\n",
        "print(missing_number(l))"
      ],
      "execution_count": null,
      "outputs": [
        {
          "output_type": "stream",
          "text": [
            "Enter number of elements: 5\n",
            "1\n",
            "2\n",
            "4\n",
            "5\n",
            "6\n",
            "[1, 2, 4, 5, 6]\n",
            "3\n"
          ],
          "name": "stdout"
        }
      ]
    },
    {
      "cell_type": "markdown",
      "metadata": {
        "id": "R4bVdO7BlNRJ",
        "colab_type": "text"
      },
      "source": [
        "Question 5:\n",
        "With a given list L, write a program to print this list L after removing all duplicate values with original order reserved."
      ]
    },
    {
      "cell_type": "code",
      "metadata": {
        "id": "d7qkOnuylPfD",
        "colab_type": "code",
        "colab": {
          "base_uri": "https://localhost:8080/",
          "height": 153
        },
        "outputId": "95f34522-d5c1-4143-d56a-ced1418ad723"
      },
      "source": [
        "l = [] \n",
        "n = int(input(\"Enter number of elements : \")) \n",
        "for i in range(0, n): \n",
        "    ele = int(input()) \n",
        "    l.append(ele)\n",
        "print(l)\n",
        "len = len(l)\n",
        "for i in l:\n",
        "  if i == len-1:\n",
        "    remove(i)\n",
        "print(i)\n"
      ],
      "execution_count": null,
      "outputs": [
        {
          "output_type": "stream",
          "text": [
            "Enter number of elements : 5\n",
            "1\n",
            "1\n",
            "2\n",
            "3\n",
            "1\n",
            "[1, 1, 2, 3, 1]\n",
            "1\n"
          ],
          "name": "stdout"
        }
      ]
    }
  ]
}