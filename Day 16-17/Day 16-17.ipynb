{
 "cells": [
  {
   "cell_type": "markdown",
   "metadata": {},
   "source": [
    "# Assignment Day 16-17"
   ]
  },
  {
   "cell_type": "code",
   "execution_count": 4,
   "metadata": {},
   "outputs": [
    {
     "data": {
      "text/html": [
       "<div>\n",
       "<style scoped>\n",
       "    .dataframe tbody tr th:only-of-type {\n",
       "        vertical-align: middle;\n",
       "    }\n",
       "\n",
       "    .dataframe tbody tr th {\n",
       "        vertical-align: top;\n",
       "    }\n",
       "\n",
       "    .dataframe thead th {\n",
       "        text-align: right;\n",
       "    }\n",
       "</style>\n",
       "<table border=\"1\" class=\"dataframe\">\n",
       "  <thead>\n",
       "    <tr style=\"text-align: right;\">\n",
       "      <th></th>\n",
       "      <th>title</th>\n",
       "      <th>year</th>\n",
       "    </tr>\n",
       "  </thead>\n",
       "  <tbody>\n",
       "    <tr>\n",
       "      <th>0</th>\n",
       "      <td>Tasveer Mere Sanam</td>\n",
       "      <td>1996</td>\n",
       "    </tr>\n",
       "    <tr>\n",
       "      <th>1</th>\n",
       "      <td>Only You</td>\n",
       "      <td>1994</td>\n",
       "    </tr>\n",
       "    <tr>\n",
       "      <th>2</th>\n",
       "      <td>El pueblo del terror</td>\n",
       "      <td>1970</td>\n",
       "    </tr>\n",
       "    <tr>\n",
       "      <th>3</th>\n",
       "      <td>Machine</td>\n",
       "      <td>2007</td>\n",
       "    </tr>\n",
       "    <tr>\n",
       "      <th>4</th>\n",
       "      <td>MARy</td>\n",
       "      <td>2008</td>\n",
       "    </tr>\n",
       "  </tbody>\n",
       "</table>\n",
       "</div>"
      ],
      "text/plain": [
       "                  title  year\n",
       "0    Tasveer Mere Sanam  1996\n",
       "1              Only You  1994\n",
       "2  El pueblo del terror  1970\n",
       "3               Machine  2007\n",
       "4                  MARy  2008"
      ]
     },
     "execution_count": 4,
     "metadata": {},
     "output_type": "execute_result"
    }
   ],
   "source": [
    "import pandas as pd\n",
    "title = pd.read_csv(\"titles.csv\")\n",
    "title.head()"
   ]
  },
  {
   "cell_type": "markdown",
   "metadata": {},
   "source": [
    "**1.How many movies are listed in the titles dataframe?**"
   ]
  },
  {
   "cell_type": "code",
   "execution_count": 2,
   "metadata": {},
   "outputs": [
    {
     "name": "stdout",
     "output_type": "stream",
     "text": [
      "The no. of movies listed in the titles is:  244914\n"
     ]
    }
   ],
   "source": [
    "a = len(title)\n",
    "print(\"The no. of movies listed in the titles is: \",a)"
   ]
  },
  {
   "cell_type": "markdown",
   "metadata": {},
   "source": [
    "**2. What are the earliest two films listed in the titles dataframe?**"
   ]
  },
  {
   "cell_type": "code",
   "execution_count": 12,
   "metadata": {},
   "outputs": [
    {
     "name": "stdout",
     "output_type": "stream",
     "text": [
      "The earliest 2 films listed in the dataframe are: \n",
      "                      title  year\n",
      "193222          Miss Jerry  1894\n",
      "51388   The Startled Lover  1898\n"
     ]
    }
   ],
   "source": [
    "b = title.sort_values('year').head(2)\n",
    "print(\"The earliest 2 films listed in the dataframe are: \\n\", b)"
   ]
  },
  {
   "cell_type": "markdown",
   "metadata": {},
   "source": [
    "**3. How many movies have the title \"Hamlet\"?**"
   ]
  },
  {
   "cell_type": "code",
   "execution_count": 9,
   "metadata": {},
   "outputs": [
    {
     "name": "stdout",
     "output_type": "stream",
     "text": [
      "The no. of movies having the title Hamlet are:  20\n"
     ]
    }
   ],
   "source": [
    "c = len(title[title.title == 'Hamlet'])\n",
    "print(\"The no. of movies having the title Hamlet are: \",c)"
   ]
  },
  {
   "cell_type": "markdown",
   "metadata": {},
   "source": [
    "**4. How many movies are titled \"North by Northwest\"?**"
   ]
  },
  {
   "cell_type": "code",
   "execution_count": 10,
   "metadata": {},
   "outputs": [
    {
     "name": "stdout",
     "output_type": "stream",
     "text": [
      "The no. of movies having the title Hamlet are:  1\n"
     ]
    }
   ],
   "source": [
    "d = len(title[title.title == 'North by Northwest'])\n",
    "print(\"The no. of movies having the title Hamlet are: \",d)"
   ]
  },
  {
   "cell_type": "markdown",
   "metadata": {},
   "source": [
    "**5. When was the first movie titled \"Hamlet\" made?**"
   ]
  },
  {
   "cell_type": "code",
   "execution_count": 14,
   "metadata": {},
   "outputs": [
    {
     "name": "stdout",
     "output_type": "stream",
     "text": [
      "The first movie titled Hamlet was made in: \n",
      "         title  year\n",
      "52521  Hamlet  1910\n"
     ]
    }
   ],
   "source": [
    "e = title[title.title == 'Hamlet'].sort_values('year').head(1)\n",
    "print(\"The first movie titled Hamlet was made in: \\n\",e)"
   ]
  },
  {
   "cell_type": "markdown",
   "metadata": {},
   "source": [
    "**6. List all of the \"Treasure Island\" movies from earliest to most recent.**"
   ]
  },
  {
   "cell_type": "code",
   "execution_count": 16,
   "metadata": {},
   "outputs": [
    {
     "name": "stdout",
     "output_type": "stream",
     "text": [
      "List of all the Treasure Island movies from earliest to most recent is: \n",
      "                   title  year\n",
      "55686   Treasure Island  1918\n",
      "196514  Treasure Island  1920\n",
      "141822  Treasure Island  1934\n",
      "77354   Treasure Island  1950\n",
      "65051   Treasure Island  1972\n"
     ]
    }
   ],
   "source": [
    "f = title[title.title == 'Treasure Island'].sort_values('year').head()\n",
    "print(\"List of all the Treasure Island movies from earliest to most recent is: \\n\",f)"
   ]
  },
  {
   "cell_type": "markdown",
   "metadata": {},
   "source": [
    "**7. How many movies were made in the year 1950?**"
   ]
  },
  {
   "cell_type": "code",
   "execution_count": 19,
   "metadata": {},
   "outputs": [
    {
     "name": "stdout",
     "output_type": "stream",
     "text": [
      "No. of movies  made in the year 1950 are: \n",
      " 1113\n"
     ]
    }
   ],
   "source": [
    "g = len(title[title.year == 1950])\n",
    "print(\"No. of movies  made in the year 1950 are: \\n\",g)"
   ]
  },
  {
   "cell_type": "markdown",
   "metadata": {},
   "source": [
    "**8. How many movies were made in the year 1960?**"
   ]
  },
  {
   "cell_type": "code",
   "execution_count": 20,
   "metadata": {},
   "outputs": [
    {
     "name": "stdout",
     "output_type": "stream",
     "text": [
      "No. of movies  made in the year 1960 are: \n",
      " 1549\n"
     ]
    }
   ],
   "source": [
    "h = len(title[title.year == 1960])\n",
    "print(\"No. of movies  made in the year 1960 are: \\n\",h)"
   ]
  },
  {
   "cell_type": "markdown",
   "metadata": {},
   "source": [
    "**9. How many movies were made from 1950 through 1959?**"
   ]
  },
  {
   "cell_type": "code",
   "execution_count": 24,
   "metadata": {},
   "outputs": [
    {
     "name": "stdout",
     "output_type": "stream",
     "text": [
      "No. of movies made from 1950 through 1959 are: \n",
      " 12934\n"
     ]
    }
   ],
   "source": [
    "I = len(title[(1950 <= title.year) & (title.year <= 1959)])\n",
    "print(\"No. of movies made from 1950 through 1959 are: \\n\",I)"
   ]
  },
  {
   "cell_type": "markdown",
   "metadata": {},
   "source": [
    "**10. In what years has a movie titled \"Batman\" been released?**"
   ]
  },
  {
   "cell_type": "code",
   "execution_count": 25,
   "metadata": {},
   "outputs": [
    {
     "name": "stdout",
     "output_type": "stream",
     "text": [
      "Years in which movie titled Batman been released are: \n",
      "          title  year\n",
      "39349   Batman  1943\n",
      "240896  Batman  1989\n"
     ]
    }
   ],
   "source": [
    "j = title[title.title == 'Batman'].sort_values('year').head()\n",
    "print(\"Years in which movie titled Batman been released are: \\n\",j)"
   ]
  },
  {
   "cell_type": "code",
   "execution_count": 5,
   "metadata": {},
   "outputs": [
    {
     "data": {
      "text/html": [
       "<div>\n",
       "<style scoped>\n",
       "    .dataframe tbody tr th:only-of-type {\n",
       "        vertical-align: middle;\n",
       "    }\n",
       "\n",
       "    .dataframe tbody tr th {\n",
       "        vertical-align: top;\n",
       "    }\n",
       "\n",
       "    .dataframe thead th {\n",
       "        text-align: right;\n",
       "    }\n",
       "</style>\n",
       "<table border=\"1\" class=\"dataframe\">\n",
       "  <thead>\n",
       "    <tr style=\"text-align: right;\">\n",
       "      <th></th>\n",
       "      <th>title</th>\n",
       "      <th>year</th>\n",
       "      <th>name</th>\n",
       "      <th>type</th>\n",
       "      <th>character</th>\n",
       "      <th>n</th>\n",
       "    </tr>\n",
       "  </thead>\n",
       "  <tbody>\n",
       "    <tr>\n",
       "      <th>0</th>\n",
       "      <td>Closet Monster</td>\n",
       "      <td>2015</td>\n",
       "      <td>Buffy #1</td>\n",
       "      <td>actor</td>\n",
       "      <td>Buffy 4</td>\n",
       "      <td>31.0</td>\n",
       "    </tr>\n",
       "    <tr>\n",
       "      <th>1</th>\n",
       "      <td>Suuri illusioni</td>\n",
       "      <td>1985</td>\n",
       "      <td>Homo $</td>\n",
       "      <td>actor</td>\n",
       "      <td>Guests</td>\n",
       "      <td>22.0</td>\n",
       "    </tr>\n",
       "    <tr>\n",
       "      <th>2</th>\n",
       "      <td>Battle of the Sexes</td>\n",
       "      <td>2017</td>\n",
       "      <td>$hutter</td>\n",
       "      <td>actor</td>\n",
       "      <td>Bobby Riggs Fan</td>\n",
       "      <td>10.0</td>\n",
       "    </tr>\n",
       "    <tr>\n",
       "      <th>3</th>\n",
       "      <td>Secret in Their Eyes</td>\n",
       "      <td>2015</td>\n",
       "      <td>$hutter</td>\n",
       "      <td>actor</td>\n",
       "      <td>2002 Dodger Fan</td>\n",
       "      <td>NaN</td>\n",
       "    </tr>\n",
       "    <tr>\n",
       "      <th>4</th>\n",
       "      <td>Steve Jobs</td>\n",
       "      <td>2015</td>\n",
       "      <td>$hutter</td>\n",
       "      <td>actor</td>\n",
       "      <td>1988 Opera House Patron</td>\n",
       "      <td>NaN</td>\n",
       "    </tr>\n",
       "  </tbody>\n",
       "</table>\n",
       "</div>"
      ],
      "text/plain": [
       "                  title  year      name   type                character     n\n",
       "0        Closet Monster  2015  Buffy #1  actor                  Buffy 4  31.0\n",
       "1       Suuri illusioni  1985    Homo $  actor                   Guests  22.0\n",
       "2   Battle of the Sexes  2017   $hutter  actor          Bobby Riggs Fan  10.0\n",
       "3  Secret in Their Eyes  2015   $hutter  actor          2002 Dodger Fan   NaN\n",
       "4            Steve Jobs  2015   $hutter  actor  1988 Opera House Patron   NaN"
      ]
     },
     "execution_count": 5,
     "metadata": {},
     "output_type": "execute_result"
    }
   ],
   "source": [
    "cast_data = pd.read_csv(\"cast.csv\")\n",
    "cast_data.head()"
   ]
  },
  {
   "cell_type": "markdown",
   "metadata": {},
   "source": [
    "**11. How many roles were there in the movie \"Inception\"?**"
   ]
  },
  {
   "cell_type": "code",
   "execution_count": 6,
   "metadata": {},
   "outputs": [
    {
     "data": {
      "text/html": [
       "<div>\n",
       "<style scoped>\n",
       "    .dataframe tbody tr th:only-of-type {\n",
       "        vertical-align: middle;\n",
       "    }\n",
       "\n",
       "    .dataframe tbody tr th {\n",
       "        vertical-align: top;\n",
       "    }\n",
       "\n",
       "    .dataframe thead th {\n",
       "        text-align: right;\n",
       "    }\n",
       "</style>\n",
       "<table border=\"1\" class=\"dataframe\">\n",
       "  <thead>\n",
       "    <tr style=\"text-align: right;\">\n",
       "      <th></th>\n",
       "      <th>title</th>\n",
       "      <th>year</th>\n",
       "      <th>name</th>\n",
       "      <th>type</th>\n",
       "      <th>character</th>\n",
       "      <th>n</th>\n",
       "    </tr>\n",
       "  </thead>\n",
       "  <tbody>\n",
       "    <tr>\n",
       "      <th>98153</th>\n",
       "      <td>Inception</td>\n",
       "      <td>2010</td>\n",
       "      <td>Michael (III) August</td>\n",
       "      <td>actor</td>\n",
       "      <td>LAX Passenger</td>\n",
       "      <td>NaN</td>\n",
       "    </tr>\n",
       "    <tr>\n",
       "      <th>149008</th>\n",
       "      <td>Inception</td>\n",
       "      <td>2010</td>\n",
       "      <td>Peter Basham</td>\n",
       "      <td>actor</td>\n",
       "      <td>Fischer's Jet Captain</td>\n",
       "      <td>44.0</td>\n",
       "    </tr>\n",
       "    <tr>\n",
       "      <th>183937</th>\n",
       "      <td>Inception</td>\n",
       "      <td>2010</td>\n",
       "      <td>Tom Berenger</td>\n",
       "      <td>actor</td>\n",
       "      <td>Browning</td>\n",
       "      <td>8.0</td>\n",
       "    </tr>\n",
       "    <tr>\n",
       "      <th>197877</th>\n",
       "      <td>Inception</td>\n",
       "      <td>2010</td>\n",
       "      <td>Ken Bhan</td>\n",
       "      <td>actor</td>\n",
       "      <td>Mombasan Gambler</td>\n",
       "      <td>NaN</td>\n",
       "    </tr>\n",
       "    <tr>\n",
       "      <th>260128</th>\n",
       "      <td>Inception</td>\n",
       "      <td>2010</td>\n",
       "      <td>Virgile Bramly</td>\n",
       "      <td>actor</td>\n",
       "      <td>Bridge Sub Con</td>\n",
       "      <td>29.0</td>\n",
       "    </tr>\n",
       "  </tbody>\n",
       "</table>\n",
       "</div>"
      ],
      "text/plain": [
       "            title  year                  name   type              character  \\\n",
       "98153   Inception  2010  Michael (III) August  actor          LAX Passenger   \n",
       "149008  Inception  2010          Peter Basham  actor  Fischer's Jet Captain   \n",
       "183937  Inception  2010          Tom Berenger  actor               Browning   \n",
       "197877  Inception  2010              Ken Bhan  actor       Mombasan Gambler   \n",
       "260128  Inception  2010        Virgile Bramly  actor         Bridge Sub Con   \n",
       "\n",
       "           n  \n",
       "98153    NaN  \n",
       "149008  44.0  \n",
       "183937   8.0  \n",
       "197877   NaN  \n",
       "260128  29.0  "
      ]
     },
     "execution_count": 6,
     "metadata": {},
     "output_type": "execute_result"
    }
   ],
   "source": [
    "inception_m = cast_data[cast_data['title']=='Inception']\n",
    "inception_m.head()"
   ]
  },
  {
   "cell_type": "code",
   "execution_count": 33,
   "metadata": {},
   "outputs": [
    {
     "name": "stdout",
     "output_type": "stream",
     "text": [
      "Total no. of roles in movie Inception were: \n",
      " 56\n"
     ]
    }
   ],
   "source": [
    "Inception_char = inception_m['character'].unique()\n",
    "k = len(Inception_char)\n",
    "print(\"Total no. of roles in movie Inception were: \\n\", k)"
   ]
  },
  {
   "cell_type": "markdown",
   "metadata": {},
   "source": [
    "**12. How many roles in the movie \"Inception\" are NOT ranked by an \"n\" value?**"
   ]
  },
  {
   "cell_type": "code",
   "execution_count": 26,
   "metadata": {},
   "outputs": [
    {
     "name": "stdout",
     "output_type": "stream",
     "text": [
      "How many roles in the movie Inception are NOT ranked by an n value? : \n",
      " 27\n"
     ]
    }
   ],
   "source": [
    "a = len(cast_data[(cast_data['title']=='Inception') & (cast_data['n'].isnull())])\n",
    "print(\"How many roles in the movie Inception are NOT ranked by an n value? : \\n\",a)"
   ]
  },
  {
   "cell_type": "markdown",
   "metadata": {},
   "source": [
    "**13. But how many roles in the movie \"Inception\" did receive an \"n\" value?**"
   ]
  },
  {
   "cell_type": "code",
   "execution_count": 27,
   "metadata": {},
   "outputs": [
    {
     "name": "stdout",
     "output_type": "stream",
     "text": [
      "How many roles in the movie Inception did receive an n value? : \n",
      " 51\n"
     ]
    }
   ],
   "source": [
    "b = len(cast_data[(cast_data['title']=='Inception') & (cast_data['n'].notnull())])\n",
    "print(\"How many roles in the movie Inception did receive an n value? : \\n\",b)"
   ]
  },
  {
   "cell_type": "markdown",
   "metadata": {},
   "source": [
    "**14. Display the cast of \"North by Northwest\" in their correct \"n\"-value order, ignoring roles that did not earn a numeric \"n\" value.**"
   ]
  },
  {
   "cell_type": "code",
   "execution_count": 34,
   "metadata": {},
   "outputs": [
    {
     "name": "stdout",
     "output_type": "stream",
     "text": [
      "The cast of North by Northwest in n-value order: \n",
      " 12668          Stanley Adams\n",
      "29122             Andy Albin\n",
      "56389           Don Anderson\n",
      "56610        Ernest Anderson\n",
      "95950      Malcolm Atterbury\n",
      "                 ...        \n",
      "3518333      Eva Marie Saint\n",
      "3577128          Doris Singh\n",
      "3599912         Helen Spring\n",
      "3739133        Susan Whitney\n",
      "3751311       Paula Winslowe\n",
      "Name: name, Length: 116, dtype: object\n"
     ]
    }
   ],
   "source": [
    "cast_northwest = (cast_data['title']=='North by Northwest')\n",
    "a2 = cast_data.loc[cast_northwest]\n",
    "print(\"The cast of North by Northwest in n-value order: \\n\",a2['name'])"
   ]
  },
  {
   "cell_type": "markdown",
   "metadata": {},
   "source": [
    "**15. Display the entire cast, in \"n\"-order, of the 1972 film \"Sleuth\".**"
   ]
  },
  {
   "cell_type": "code",
   "execution_count": 53,
   "metadata": {},
   "outputs": [
    {
     "name": "stdout",
     "output_type": "stream",
     "text": [
      "The cast of North by Northwest in n-value order: \n",
      " 326773          Michael Caine\n",
      "373876         Alec Cawthorne\n",
      "1448690          Teddy Martin\n",
      "1465483    John (II) Matthews\n",
      "1705394      Laurence Olivier\n",
      "2724553    Eve (III) Channing\n",
      "Name: name, dtype: object\n"
     ]
    }
   ],
   "source": [
    "s = cast_data[(cast_data['title'] == 'Sleuth') & (cast_data['year'] == 1972)]\n",
    "print(\"The cast of North by Northwest in n-value order: \\n\",s['name'])"
   ]
  },
  {
   "cell_type": "markdown",
   "metadata": {},
   "source": [
    "**16. Now display the entire cast, in \"n\"-order, of the 2007 version of \"Sleuth\".**"
   ]
  },
  {
   "cell_type": "code",
   "execution_count": 54,
   "metadata": {},
   "outputs": [
    {
     "name": "stdout",
     "output_type": "stream",
     "text": [
      "The cast of North by Northwest in n-value order: \n",
      " 260242         Kenneth Branagh\n",
      "326774           Michael Caine\n",
      "373877     Alec (II) Cawthorne\n",
      "1293634               Jude Law\n",
      "1805907          Harold Pinter\n",
      "2724552      Eve (II) Channing\n",
      "3370424      Carmel O'Sullivan\n",
      "Name: name, dtype: object\n"
     ]
    }
   ],
   "source": [
    "s1 = cast_data[(cast_data['title'] == 'Sleuth') & (cast_data['year'] == 2007)]\n",
    "print(\"The cast of North by Northwest in n-value order: \\n\",s1['name'])"
   ]
  },
  {
   "cell_type": "markdown",
   "metadata": {},
   "source": [
    "**17. How many roles were credited in the silent 1921 version of Hamlet?**"
   ]
  },
  {
   "cell_type": "code",
   "execution_count": 42,
   "metadata": {},
   "outputs": [
    {
     "name": "stdout",
     "output_type": "stream",
     "text": [
      "No. of roles  credited in the silent 1921 version of Hamlet were: \n",
      " 9\n"
     ]
    }
   ],
   "source": [
    "P = cast_data[(cast_data['title'] == 'Hamlet') & (cast_data['year'] == 1921)].character.shape[0]\n",
    "print(\"No. of roles  credited in the silent 1921 version of Hamlet were: \\n\",P)"
   ]
  },
  {
   "cell_type": "markdown",
   "metadata": {},
   "source": [
    "**18. How many roles were credited in Branagh’s 1996 Hamlet?**"
   ]
  },
  {
   "cell_type": "code",
   "execution_count": 69,
   "metadata": {},
   "outputs": [
    {
     "name": "stdout",
     "output_type": "stream",
     "text": [
      "No. of roles credited in Branagh's 1996 Hamlet are: \n",
      "           title  year                    name     type  \\\n",
      "1731     Hamlet  1996              Riz Abbasi    actor   \n",
      "95861    Hamlet  1996    Richard Attenborough    actor   \n",
      "158642   Hamlet  1996     Simon Russell Beale    actor   \n",
      "214473   Hamlet  1996         David (V) Blair    actor   \n",
      "219554   Hamlet  1996           Brian Blessed    actor   \n",
      "250773   Hamlet  1996      Christopher Bowles    actor   \n",
      "260225   Hamlet  1996         Kenneth Branagh    actor   \n",
      "272749   Hamlet  1996          Richard Briers    actor   \n",
      "294652   Hamlet  1996          Michael Bryant    actor   \n",
      "319501   Hamlet  1996            Peter Bygott    actor   \n",
      "344365   Hamlet  1996       Kenneth W Caravan    actor   \n",
      "500916   Hamlet  1996           Billy Crystal    actor   \n",
      "518572   Hamlet  1996           Charles Daish    actor   \n",
      "576147   Hamlet  1996        G?rard Depardieu    actor   \n",
      "598618   Hamlet  1996          Reece Dinsdale    actor   \n",
      "604339   Hamlet  1996                Ken Dodd    actor   \n",
      "656817   Hamlet  1996             Rob Edwards    actor   \n",
      "669232   Hamlet  1996             Jimmy Ellis    actor   \n",
      "704270   Hamlet  1996        Nicholas Farrell    actor   \n",
      "708468   Hamlet  1996              Ray Fearon    actor   \n",
      "827066   Hamlet  1996            John Gielgud    actor   \n",
      "990819   Hamlet  1996         Charlton Heston    actor   \n",
      "1074691  Hamlet  1996           Ravil Isyanov    actor   \n",
      "1082161  Hamlet  1996            Derek Jacobi    actor   \n",
      "1210509  Hamlet  1996         Jeffery Kissoon    actor   \n",
      "1316617  Hamlet  1996             Jack Lemmon    actor   \n",
      "1400732  Hamlet  1996       Anthony Maddalena    actor   \n",
      "1417360  Hamlet  1996         Michael Maloney    actor   \n",
      "1489191  Hamlet  1996          Ian McElhinney    actor   \n",
      "1549128  Hamlet  1996              John Mills    actor   \n",
      "1556082  Hamlet  1996             Jimi Mistry    actor   \n",
      "1588218  Hamlet  1996       Frank (II) Morgan    actor   \n",
      "2040040  Hamlet  1996        Andrew Schofield    actor   \n",
      "2052796  Hamlet  1996           Orlando Seale    actor   \n",
      "2067657  Hamlet  1996            Rufus Sewell    actor   \n",
      "2151526  Hamlet  1996           Timothy Spall    actor   \n",
      "2154960  Hamlet  1996  John Spencer-Churchill    actor   \n",
      "2221910  Hamlet  1996         Thomas Szekeres    actor   \n",
      "2259675  Hamlet  1996                Ben Thom    actor   \n",
      "2404091  Hamlet  1996          Don Warrington    actor   \n",
      "2453099  Hamlet  1996          Robin Williams    actor   \n",
      "2500066  Hamlet  1996               David Yip    actor   \n",
      "2508377  Hamlet  1996             Jimmy Yuill    actor   \n",
      "2737885  Hamlet  1996          Julie Christie  actress   \n",
      "2814220  Hamlet  1996              Judi Dench  actress   \n",
      "2835947  Hamlet  1996          Angela Douglas  actress   \n",
      "2940033  Hamlet  1996           Yvonne Gidden  actress   \n",
      "2999610  Hamlet  1996         Rosemary Harris  actress   \n",
      "3119901  Hamlet  1996             Rowena King  actress   \n",
      "3154270  Hamlet  1996               Sarah Lam  actress   \n",
      "3451003  Hamlet  1996           Sian Radinger  actress   \n",
      "3456114  Hamlet  1996          Melanie Ramsay  actress   \n",
      "3728751  Hamlet  1996           Perdita Weeks  actress   \n",
      "3751232  Hamlet  1996            Kate Winslet  actress   \n",
      "\n",
      "                        character     n  \n",
      "1731        Attendant to Claudius   1.0  \n",
      "95861          English Ambassador   2.0  \n",
      "158642         Second Gravedigger  37.0  \n",
      "214473      Attendant to Claudius   3.0  \n",
      "219554   Ghost of Hamlet's Father   4.0  \n",
      "250773              Cadet in Play   NaN  \n",
      "260225                     Hamlet   5.0  \n",
      "272749                   Polonius   6.0  \n",
      "294652                     Priest   7.0  \n",
      "319501      Attendant to Claudius   8.0  \n",
      "344365                Laertes Mob   NaN  \n",
      "500916          First Gravedigger  10.0  \n",
      "518572              Stage Manager  11.0  \n",
      "576147                   Reynaldo  13.0  \n",
      "598618               Guildenstern  14.0  \n",
      "604339                     Yorick  15.0  \n",
      "656817                   Lucianus  17.0  \n",
      "669232             Old Fortinbras   NaN  \n",
      "704270                    Horatio  18.0  \n",
      "708468                  Francisco  19.0  \n",
      "827066                      Priam  21.0  \n",
      "990819                Player King  23.0  \n",
      "1074691                 Cornelius  24.0  \n",
      "1082161                  Claudius  25.0  \n",
      "1210509      Fortinbras's Captain  27.0  \n",
      "1316617                 Marcellus  29.0  \n",
      "1400732         Elsinore Courtier   NaN  \n",
      "1417360                   Laertes  31.0  \n",
      "1489191                  Barnardo  30.0  \n",
      "1549128                Old Norway  33.0  \n",
      "1556082                Sailor Two  34.0  \n",
      "1588218                   Pyrrhus   NaN  \n",
      "2040040                Young Lord  38.0  \n",
      "2052796                   Boatman   NaN  \n",
      "2067657                Fortinbras  39.0  \n",
      "2151526               Rosencrantz  40.0  \n",
      "2154960      Fortinbras's Captain  32.0  \n",
      "2221910              Young Hamlet  41.0  \n",
      "2259675              First Player  42.0  \n",
      "2404091                 Voltimand  43.0  \n",
      "2453099                     Osric  45.0  \n",
      "2500066                Sailor One  47.0  \n",
      "2508377                 Alexander   NaN  \n",
      "2737885                  Gertrude   9.0  \n",
      "2814220                    Hecuba  12.0  \n",
      "2835947     Attendant to Gertrude  16.0  \n",
      "2940033                    Doctor  20.0  \n",
      "2999610              Player Queen  22.0  \n",
      "3119901     Attendant to Gertrude  26.0  \n",
      "3154270     Attendant to Gertrude  28.0  \n",
      "3451003                  Prologue  35.0  \n",
      "3456114                Prostitute   NaN  \n",
      "3728751             Second Player  44.0  \n",
      "3751232                   Ophelia  46.0  \n"
     ]
    }
   ],
   "source": [
    "a3 = cast_data[(cast_data['title']=='Hamlet') & (cast_data['year']==1996)]\n",
    "print(\"No. of roles credited in Branagh\\'s 1996 Hamlet are: \\n\", a3)"
   ]
  },
  {
   "cell_type": "code",
   "execution_count": 44,
   "metadata": {},
   "outputs": [
    {
     "name": "stdout",
     "output_type": "stream",
     "text": [
      "No. of roles credited in Branagh's 1996 Hamlet are: \n",
      " 54\n"
     ]
    }
   ],
   "source": [
    "a4 = cast_data[(cast_data['title']=='Hamlet') & (cast_data['year']==1996)].character.shape[0]\n",
    "print(\"No. of roles credited in Branagh\\'s 1996 Hamlet are: \\n\", a4)"
   ]
  },
  {
   "cell_type": "markdown",
   "metadata": {},
   "source": [
    "**19. How many \"Hamlet\" roles have been listed in all film credits through history?**"
   ]
  },
  {
   "cell_type": "code",
   "execution_count": 48,
   "metadata": {},
   "outputs": [
    {
     "name": "stdout",
     "output_type": "stream",
     "text": [
      "Hamlet roles have been listed in all film credits through history are: \n",
      " 342\n"
     ]
    }
   ],
   "source": [
    "a5 = cast_data[cast_data['title']=='Hamlet'].character.shape[0]\n",
    "print(\"Hamlet roles have been listed in all film credits through history are: \\n\", a5)"
   ]
  },
  {
   "cell_type": "markdown",
   "metadata": {},
   "source": [
    "**20. How many people have played an \"Ophelia\"?**"
   ]
  },
  {
   "cell_type": "code",
   "execution_count": 56,
   "metadata": {},
   "outputs": [
    {
     "name": "stdout",
     "output_type": "stream",
     "text": [
      "No. of people who have played ophelia is: \n",
      " 117\n"
     ]
    }
   ],
   "source": [
    "o =cast_data[cast_data['character']=='Ophelia'].character.shape[0]\n",
    "print(\"No. of people who have played ophelia is: \\n\",o)"
   ]
  },
  {
   "cell_type": "markdown",
   "metadata": {},
   "source": [
    "**21. How many people have played a role called \"The Dude\"?**"
   ]
  },
  {
   "cell_type": "code",
   "execution_count": 57,
   "metadata": {},
   "outputs": [
    {
     "name": "stdout",
     "output_type": "stream",
     "text": [
      "No. of people who have played a role called the dude is: \n",
      " 19\n"
     ]
    }
   ],
   "source": [
    "d =cast_data[cast_data['character']=='The Dude'].character.shape[0]\n",
    "print(\"No. of people who have played a role called the dude is: \\n\",d)"
   ]
  },
  {
   "cell_type": "markdown",
   "metadata": {},
   "source": [
    "**22. How many people have played a role called \"The Stranger\"?**"
   ]
  },
  {
   "cell_type": "code",
   "execution_count": 58,
   "metadata": {},
   "outputs": [
    {
     "name": "stdout",
     "output_type": "stream",
     "text": [
      "No. of people who have played a role called The Stranger is: \n",
      " 212\n"
     ]
    }
   ],
   "source": [
    "s1 =cast_data[cast_data['character']=='The Stranger'].character.shape[0]\n",
    "print(\"No. of people who have played a role called The Stranger is: \\n\",s1)"
   ]
  },
  {
   "cell_type": "markdown",
   "metadata": {},
   "source": [
    "**23. How many roles has Sidney Poitier played throughout his career?**"
   ]
  },
  {
   "cell_type": "code",
   "execution_count": 13,
   "metadata": {},
   "outputs": [
    {
     "name": "stdout",
     "output_type": "stream",
     "text": [
      "How many roles has Sidney Poitier played throughout his career? :  \n",
      " 43\n"
     ]
    }
   ],
   "source": [
    "sp = len(cast_data[(cast_data['type']=='actor') & (cast_data['name']==\"Sidney Poitier\")])\n",
    "print(\"How many roles has Sidney Poitier played throughout his career? :  \\n\",sp)"
   ]
  },
  {
   "cell_type": "markdown",
   "metadata": {},
   "source": [
    "**24. How many roles has Judi Dench played?**"
   ]
  },
  {
   "cell_type": "code",
   "execution_count": 9,
   "metadata": {},
   "outputs": [
    {
     "name": "stdout",
     "output_type": "stream",
     "text": [
      "no. of roles judy dench has played : \n",
      " 55\n"
     ]
    }
   ],
   "source": [
    "jd = len(cast_data[(cast_data['type']=='actress') & (cast_data['name']==\"Judi Dench\")])\n",
    "print(\"no. of roles judy dench has played : \\n\",jd)"
   ]
  },
  {
   "cell_type": "markdown",
   "metadata": {},
   "source": [
    "**25. List the supporting roles (having n=2) played by Cary Grant in the 1940s, in order by year.**"
   ]
  },
  {
   "cell_type": "code",
   "execution_count": 14,
   "metadata": {},
   "outputs": [
    {
     "name": "stdout",
     "output_type": "stream",
     "text": [
      "List the supporting roles (having n=2) played by Cary Grant in the 1940s, in order by year: \n",
      "                    title  year        name   type   character    n\n",
      "871423  My Favorite Wife  1940  Cary Grant  actor  Nick Arden  2.0\n"
     ]
    }
   ],
   "source": [
    "cg = cast_data[(cast_data['name']==\"Cary Grant\") & (cast_data['n']== 2) & (cast_data['year']==1940)].sort_values('year').head()\n",
    "print(\"List the supporting roles (having n=2) played by Cary Grant in the 1940s, in order by year: \\n\",cg)"
   ]
  },
  {
   "cell_type": "markdown",
   "metadata": {},
   "source": [
    "**26. List the leading roles that Cary Grant played in the 1940s in order by year.**"
   ]
  },
  {
   "cell_type": "code",
   "execution_count": 15,
   "metadata": {},
   "outputs": [
    {
     "name": "stdout",
     "output_type": "stream",
     "text": [
      "List the leading roles that Cary Grant played in the 1940s in order by year: \n",
      "                           title  year        name   type           character  \\\n",
      "871407          His Girl Friday  1940  Cary Grant  actor        Walter Burns   \n",
      "871448  The Howards of Virginia  1940  Cary Grant  actor         Matt Howard   \n",
      "871450   The Philadelphia Story  1940  Cary Grant  actor  C. K. Dexter Haven   \n",
      "\n",
      "          n  \n",
      "871407  1.0  \n",
      "871448  1.0  \n",
      "871450  1.0  \n"
     ]
    }
   ],
   "source": [
    "cg_s= cast_data[(cast_data['name']==\"Cary Grant\") & (cast_data['n']== 1) & (cast_data['year']==1940)].sort_values('year').head()\n",
    "print(\"List the leading roles that Cary Grant played in the 1940s in order by year: \\n\", cg_s)"
   ]
  },
  {
   "cell_type": "markdown",
   "metadata": {},
   "source": [
    "**27. How many roles were available for actors in the 1950s?**"
   ]
  },
  {
   "cell_type": "code",
   "execution_count": 62,
   "metadata": {},
   "outputs": [
    {
     "name": "stdout",
     "output_type": "stream",
     "text": [
      "16760\n"
     ]
    }
   ],
   "source": [
    "A = cast_data[(cast_data['type']=='actor') & (cast_data['year']==1950)].character.shape[0]\n",
    "print(A)"
   ]
  },
  {
   "cell_type": "markdown",
   "metadata": {},
   "source": [
    "**28. How many roles were available for actresses in the 1950s?**"
   ]
  },
  {
   "cell_type": "code",
   "execution_count": 63,
   "metadata": {},
   "outputs": [
    {
     "name": "stdout",
     "output_type": "stream",
     "text": [
      "5637\n"
     ]
    }
   ],
   "source": [
    "B = cast_data[(cast_data['type']=='actress') & (cast_data['year']==1950)].character.shape[0]\n",
    "print(B)"
   ]
  },
  {
   "cell_type": "markdown",
   "metadata": {},
   "source": [
    "**29. How many leading roles (n=1) were available from the beginning of film history through 1980?**"
   ]
  },
  {
   "cell_type": "code",
   "execution_count": 17,
   "metadata": {},
   "outputs": [
    {
     "name": "stdout",
     "output_type": "stream",
     "text": [
      "Number of leading roles available from the beginning of film history through 1980: \n",
      " 5\n"
     ]
    }
   ],
   "source": [
    "L_r= len(cast_data[(cast_data['n']== 1) & (cast_data['year']==1980)].sort_values('year').head())\n",
    "print(\"Number of leading roles available from the beginning of film history through 1980: \\n\",L_r)"
   ]
  },
  {
   "cell_type": "code",
   "execution_count": 18,
   "metadata": {},
   "outputs": [
    {
     "name": "stdout",
     "output_type": "stream",
     "text": [
      "Number of leading roles available from the beginning of film history through 1980: \n",
      "                  title  year                      name   type       character  \\\n",
      "1293     Il pap'occhio  1980         Diego Abatantuono  actor  Padre Gabriele   \n",
      "2333393         Rienie  1980  Johan (II) van der Merwe  actor    Peet Jordaan   \n",
      "2332758         Skelms  1980     Regardt van den Bergh  actor           Doper   \n",
      "2328459   Eden no sono  1980             Ronni Valente  actor         Michele   \n",
      "2325816       Kamionat  1980            Grigor Vachkov  actor         Dedleto   \n",
      "\n",
      "           n  \n",
      "1293     1.0  \n",
      "2333393  1.0  \n",
      "2332758  1.0  \n",
      "2328459  1.0  \n",
      "2325816  1.0  \n"
     ]
    }
   ],
   "source": [
    "L_r= cast_data[(cast_data['n']== 1) & (cast_data['year']==1980)].sort_values('year').head()\n",
    "print(\"Number of leading roles available from the beginning of film history through 1980: \\n\",L_r)"
   ]
  },
  {
   "cell_type": "markdown",
   "metadata": {},
   "source": [
    "**30. How many non-leading roles were available through from the beginning of film history through 1980?**"
   ]
  },
  {
   "cell_type": "code",
   "execution_count": 21,
   "metadata": {},
   "outputs": [
    {
     "name": "stdout",
     "output_type": "stream",
     "text": [
      "Number of non-leading roles available from the beginning of film history through 1980: \n",
      " 5\n"
     ]
    }
   ],
   "source": [
    "NL_r= len(cast_data[(cast_data['n']== 2) & (cast_data['year']==1980)].sort_values('year').head())\n",
    "print(\"Number of non-leading roles available from the beginning of film history through 1980: \\n\",NL_r)"
   ]
  },
  {
   "cell_type": "markdown",
   "metadata": {},
   "source": [
    "**31. How many roles through 1980 were minor enough that they did not warrant a numeric \"n\" rank?**"
   ]
  },
  {
   "cell_type": "code",
   "execution_count": 9,
   "metadata": {},
   "outputs": [
    {
     "name": "stdout",
     "output_type": "stream",
     "text": [
      "How many roles through 1980 were minor enough that they did not warrant a numeric n rank? : \n",
      " 4466\n"
     ]
    }
   ],
   "source": [
    "minor = len(cast_data[(cast_data['year']==1980) & (cast_data['n'].isnull())]) \n",
    "print(\"How many roles through 1980 were minor enough that they did not warrant a numeric n rank? : \\n\",minor)"
   ]
  },
  {
   "cell_type": "code",
   "execution_count": null,
   "metadata": {},
   "outputs": [],
   "source": []
  }
 ],
 "metadata": {
  "kernelspec": {
   "display_name": "Python 3",
   "language": "python",
   "name": "python3"
  },
  "language_info": {
   "codemirror_mode": {
    "name": "ipython",
    "version": 3
   },
   "file_extension": ".py",
   "mimetype": "text/x-python",
   "name": "python",
   "nbconvert_exporter": "python",
   "pygments_lexer": "ipython3",
   "version": "3.7.6"
  }
 },
 "nbformat": 4,
 "nbformat_minor": 4
}
