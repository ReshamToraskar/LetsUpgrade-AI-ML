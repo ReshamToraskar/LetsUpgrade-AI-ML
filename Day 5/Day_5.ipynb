{
  "nbformat": 4,
  "nbformat_minor": 0,
  "metadata": {
    "colab": {
      "name": "Day 5.ipynb",
      "provenance": [],
      "collapsed_sections": []
    },
    "kernelspec": {
      "name": "python3",
      "display_name": "Python 3"
    }
  },
  "cells": [
    {
      "cell_type": "markdown",
      "metadata": {
        "id": "LCDDZvxUpBGH",
        "colab_type": "text"
      },
      "source": [
        "Question 1 :\n",
        "Write a Python program to find the first 20 non-even prime natural numbers.\n"
      ]
    },
    {
      "cell_type": "code",
      "metadata": {
        "id": "2rmI5MXZv8Ld",
        "colab_type": "code",
        "colab": {
          "base_uri": "https://localhost:8080/",
          "height": 374
        },
        "outputId": "80c070d0-dc6f-404f-f4e9-088121057541"
      },
      "source": [
        "a = int(input(\"Enter a number \"))\n",
        "for num in range(a):\n",
        "   if num > 2:\n",
        "       for i in range(2, num):\n",
        "           if (num % i) == 0:\n",
        "               break\n",
        "       else:\n",
        "           print(num)"
      ],
      "execution_count": 96,
      "outputs": [
        {
          "output_type": "stream",
          "text": [
            "Enter a number 75\n",
            "3\n",
            "5\n",
            "7\n",
            "11\n",
            "13\n",
            "17\n",
            "19\n",
            "23\n",
            "29\n",
            "31\n",
            "37\n",
            "41\n",
            "43\n",
            "47\n",
            "53\n",
            "59\n",
            "61\n",
            "67\n",
            "71\n",
            "73\n"
          ],
          "name": "stdout"
        }
      ]
    },
    {
      "cell_type": "markdown",
      "metadata": {
        "id": "-nzNM70_vfvD",
        "colab_type": "text"
      },
      "source": [
        "Question 2 :\n",
        "Write a Python program to implement 15 functions of string."
      ]
    },
    {
      "cell_type": "code",
      "metadata": {
        "id": "vVS0yrPevinw",
        "colab_type": "code",
        "colab": {
          "base_uri": "https://localhost:8080/",
          "height": 306
        },
        "outputId": "89f1e92c-9865-4e1b-b30b-b556e80b2872"
      },
      "source": [
        "a = input(\"Enter the string\")\n",
        "print(\"The entered string is   \",a)\n",
        "print(\"Function 1:\",a.capitalize())\n",
        "print(\"Function 2:\",a.isalpha())\n",
        "print(\"Function 3:\",a.center(20))\n",
        "print(\"Function 4:\",a[3:8])\n",
        "b = \"I am learning AI, I am getting better and better\"\n",
        "print(\"Function 5:\",b.count(\"am\"))\n",
        "print(\"Function 6:\",b.find(\"better\"))\n",
        "c = \"241993\"\n",
        "print(\"Function 7:\",c.isdigit())\n",
        "d = \"HELLO\"\n",
        "print(\"Function 8:\",d.casefold())\n",
        "print(\"Function 9:\",d.isupper())\n",
        "print(\"Function 10:\",d.islower())\n",
        "e = \"I have an Instagram account\"\n",
        "print(\"Function 11:\",e.split())\n",
        "print(\"Function 12:\",e.replace(\"Instagram\", \"Facebook\"))\n",
        "f = \"    \"\n",
        "print(\"Function 13:\",f.isspace())\n",
        "print(\"Function 14:\",f.zfill(10))\n",
        "g = \"I want TO learn to CODE\"\n",
        "print(\"Function 15:\",g.swapcase())\n"
      ],
      "execution_count": 78,
      "outputs": [
        {
          "output_type": "stream",
          "text": [
            "Enter the stringletsUpgrade\n",
            "The entered string is    letsUpgrade\n",
            "Function 1: Letsupgrade\n",
            "Function 2: True\n",
            "Function 3:     letsUpgrade     \n",
            "Function 4: sUpgr\n",
            "Function 5: 2\n",
            "Function 6: 31\n",
            "Function 7: True\n",
            "Function 8: hello\n",
            "Function 9: True\n",
            "Function 10: False\n",
            "Function 11: ['I', 'have', 'an', 'Instagram', 'account']\n",
            "Function 12: I have an Facebook account\n",
            "Function 13: True\n",
            "Function 14: 000000    \n",
            "Function 15: i WANT to LEARN TO code\n"
          ],
          "name": "stdout"
        }
      ]
    },
    {
      "cell_type": "markdown",
      "metadata": {
        "id": "lKY8wNpL2d2x",
        "colab_type": "text"
      },
      "source": [
        "Question 3:\n",
        "Write a Python program to check if the given string is a Palindrome or Anagram or None of them.\n",
        "Display the message accordingly to the user."
      ]
    },
    {
      "cell_type": "code",
      "metadata": {
        "id": "GV9lraxR2f9U",
        "colab_type": "code",
        "colab": {
          "base_uri": "https://localhost:8080/",
          "height": 68
        },
        "outputId": "2b04536d-4a7f-4976-dc04-2e73e8cdbc89"
      },
      "source": [
        "a = input(\"Enter a string   \")\n",
        "b = (a[::-1])\n",
        "c = input(\"Enter another string  \")\n",
        "\n",
        "if a == b:\n",
        "  print(\"String is pallindrome\")\n",
        "elif sorted(a) == sorted(c):\n",
        "  print(\"string has an anagram\")\n",
        "else:\n",
        "  print(\"string is neither a pallindrome nor has an anagram\")\n"
      ],
      "execution_count": 27,
      "outputs": [
        {
          "output_type": "stream",
          "text": [
            "Enter a string   Resham\n",
            "Enter another string  Toraskar\n",
            "string is neither a pallindrome nor has an anagram\n"
          ],
          "name": "stdout"
        }
      ]
    },
    {
      "cell_type": "markdown",
      "metadata": {
        "id": "pI9BYVJXLZzf",
        "colab_type": "text"
      },
      "source": [
        "Question 4:\n",
        "Write a Python's user defined function that removes all the additional characters from the string\n",
        "and converts it finally to lower case using built-in lower(). eg: If the string is \"Dr. Darshan Ingle\n",
        "@AI-ML Trainer\", then the output be \"drdarshaningleaimltrainer\"."
      ]
    },
    {
      "cell_type": "code",
      "metadata": {
        "id": "v_fCSliXYj-Q",
        "colab_type": "code",
        "colab": {
          "base_uri": "https://localhost:8080/",
          "height": 153
        },
        "outputId": "adf5021f-b22e-48ad-f5eb-0681c8a03a70"
      },
      "source": [
        "a = input(\"Enter the string\")\n",
        "print(\"The entered string is \",a)\n",
        "for i in a:\n",
        "    if not(i.isalpha()):\n",
        "       a = a.replace(i,\"\")\n",
        "       print(a)\n",
        "print(a.lower())\n",
        "\n"
      ],
      "execution_count": 50,
      "outputs": [
        {
          "output_type": "stream",
          "text": [
            "Enter the string@Resh@amTORask@r!1\n",
            "The entered string is  @Resh@amTORask@r!1\n",
            "ReshamTORaskr!1\n",
            "ReshamTORaskr!1\n",
            "ReshamTORaskr!1\n",
            "ReshamTORaskr1\n",
            "ReshamTORaskr\n",
            "reshamtoraskr\n"
          ],
          "name": "stdout"
        }
      ]
    }
  ]
}