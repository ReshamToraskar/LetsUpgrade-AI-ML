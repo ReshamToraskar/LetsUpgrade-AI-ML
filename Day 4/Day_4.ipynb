{
  "nbformat": 4,
  "nbformat_minor": 0,
  "metadata": {
    "colab": {
      "name": "Day 4.ipynb",
      "provenance": []
    },
    "kernelspec": {
      "name": "python3",
      "display_name": "Python 3"
    }
  },
  "cells": [
    {
      "cell_type": "markdown",
      "metadata": {
        "id": "0WMGz4lrVUd0",
        "colab_type": "text"
      },
      "source": [
        "Question 1 :\n",
        "Research on whether addition, subtraction, multiplication, division, floor division and modulo\n",
        "operations be performed on complex numbers. Based on your study, implement a Python\n",
        "program to demonstrate these operations.\n"
      ]
    },
    {
      "cell_type": "code",
      "metadata": {
        "id": "bzFMCH_PVY8Z",
        "colab_type": "code",
        "colab": {
          "base_uri": "https://localhost:8080/",
          "height": 85
        },
        "outputId": "492173a2-f6a3-448b-fef4-d049eee2d301"
      },
      "source": [
        "a = 5+3j\n",
        "b = 2+4j\n",
        "c = a + b\n",
        "print(\"The addition of two complex numbers is\", c)\n",
        "d = a - b\n",
        "print(\"The subtraction of two complex numbers is\", d)\n",
        "e = a*b\n",
        "print(\"The multiplication of two complex numbers is\", e)\n",
        "f = a/b\n",
        "print(\"The division of two complex numbers is\", f)"
      ],
      "execution_count": 7,
      "outputs": [
        {
          "output_type": "stream",
          "text": [
            "The addition of two complex numbers is (7+7j)\n",
            "The subtraction of two complex numbers is (3-1j)\n",
            "The multiplication of two complex numbers is (-2+26j)\n",
            "The division of two complex numbers is (1.1-0.7j)\n"
          ],
          "name": "stdout"
        }
      ]
    },
    {
      "cell_type": "code",
      "metadata": {
        "id": "356aDakcZwKO",
        "colab_type": "code",
        "colab": {
          "base_uri": "https://localhost:8080/",
          "height": 180
        },
        "outputId": "47578cc4-8cac-4a4c-9bd4-698d245b69c3"
      },
      "source": [
        "g = a//b\n",
        "print(\"The result of floor division between two complex numbers is\", g)\n",
        "g = a//b\n",
        "print(\"The result of floor division between two complex numbers is\", g)\n",
        "#as seen in the output python can't take floor of a complex number."
      ],
      "execution_count": 9,
      "outputs": [
        {
          "output_type": "error",
          "ename": "TypeError",
          "evalue": "ignored",
          "traceback": [
            "\u001b[0;31m---------------------------------------------------------------------------\u001b[0m",
            "\u001b[0;31mTypeError\u001b[0m                                 Traceback (most recent call last)",
            "\u001b[0;32m<ipython-input-9-9cb9dd3a8b3d>\u001b[0m in \u001b[0;36m<module>\u001b[0;34m()\u001b[0m\n\u001b[0;32m----> 1\u001b[0;31m \u001b[0mg\u001b[0m \u001b[0;34m=\u001b[0m \u001b[0ma\u001b[0m\u001b[0;34m//\u001b[0m\u001b[0mb\u001b[0m\u001b[0;34m\u001b[0m\u001b[0;34m\u001b[0m\u001b[0m\n\u001b[0m\u001b[1;32m      2\u001b[0m \u001b[0mprint\u001b[0m\u001b[0;34m(\u001b[0m\u001b[0;34m\"The result of floor division between two complex numbers is\"\u001b[0m\u001b[0;34m,\u001b[0m \u001b[0mg\u001b[0m\u001b[0;34m)\u001b[0m\u001b[0;34m\u001b[0m\u001b[0;34m\u001b[0m\u001b[0m\n",
            "\u001b[0;31mTypeError\u001b[0m: can't take floor of complex number."
          ]
        }
      ]
    },
    {
      "cell_type": "markdown",
      "metadata": {
        "id": "4WJ7-U-omRwn",
        "colab_type": "text"
      },
      "source": [
        "**as seen in the output python can't take floor of a complex number.**"
      ]
    },
    {
      "cell_type": "code",
      "metadata": {
        "id": "VaDSovm2ZPmi",
        "colab_type": "code",
        "colab": {
          "base_uri": "https://localhost:8080/",
          "height": 180
        },
        "outputId": "d297c506-5e00-4209-8024-190a6b099beb"
      },
      "source": [
        "i = a%b\n",
        "print(\"The modulo of two complex numbers is\", i)\n",
        "#python cannot take mod of complex numbers."
      ],
      "execution_count": 6,
      "outputs": [
        {
          "output_type": "error",
          "ename": "TypeError",
          "evalue": "ignored",
          "traceback": [
            "\u001b[0;31m---------------------------------------------------------------------------\u001b[0m",
            "\u001b[0;31mTypeError\u001b[0m                                 Traceback (most recent call last)",
            "\u001b[0;32m<ipython-input-6-8c6c5b26248a>\u001b[0m in \u001b[0;36m<module>\u001b[0;34m()\u001b[0m\n\u001b[0;32m----> 1\u001b[0;31m \u001b[0mi\u001b[0m \u001b[0;34m=\u001b[0m \u001b[0ma\u001b[0m\u001b[0;34m%\u001b[0m\u001b[0mb\u001b[0m\u001b[0;34m\u001b[0m\u001b[0;34m\u001b[0m\u001b[0m\n\u001b[0m\u001b[1;32m      2\u001b[0m \u001b[0mprint\u001b[0m\u001b[0;34m(\u001b[0m\u001b[0;34m\"The modulo of two complex numbers is\"\u001b[0m\u001b[0;34m,\u001b[0m \u001b[0mi\u001b[0m\u001b[0;34m)\u001b[0m\u001b[0;34m\u001b[0m\u001b[0;34m\u001b[0m\u001b[0m\n",
            "\u001b[0;31mTypeError\u001b[0m: can't mod complex numbers."
          ]
        }
      ]
    },
    {
      "cell_type": "markdown",
      "metadata": {
        "id": "9PxHVrXlmXnO",
        "colab_type": "text"
      },
      "source": [
        "**python cannot take modulo of complex numbers.**"
      ]
    },
    {
      "cell_type": "markdown",
      "metadata": {
        "id": "UNHp03beZ_OQ",
        "colab_type": "text"
      },
      "source": [
        "Question 2 :\n",
        "Research on range() functions and its parameters. Create a markdown cell and write in your own\n",
        "words (no copy-paste from google please) what you understand about it. Implement a small\n",
        "program of your choice on the same."
      ]
    },
    {
      "cell_type": "markdown",
      "metadata": {
        "id": "q4vZwcyneKf1",
        "colab_type": "text"
      },
      "source": [
        "**range() function is used with loops. It is a built in function, directly available for the user. It is not used as it is. It has three parameters, Start index, End index and Step size. The start index is 0 by default. It can be used in three ways.**"
      ]
    },
    {
      "cell_type": "markdown",
      "metadata": {
        "id": "c2OEFfgyelqc",
        "colab_type": "text"
      },
      "source": [
        "**1.range(n): In this case, the numbers go from 0 to n-1**\n",
        "\n",
        "**2.range(SI,EI): Here, the range starts with the number gives as start index to End index-1.**\n",
        "\n",
        "**3.range(SI,EI,stepsize): In tis case the range starts with start index number and goes till end index-1, but skiiping the numbers according to specified step size.**"
      ]
    },
    {
      "cell_type": "code",
      "metadata": {
        "id": "hXpQepuQg0Id",
        "colab_type": "code",
        "colab": {
          "base_uri": "https://localhost:8080/",
          "height": 34
        },
        "outputId": "1826c9a3-afd6-4a90-9f0d-8ba34d1fe28b"
      },
      "source": [
        "c = 2\n",
        "for i in range(2,5):\n",
        "  c = c * i\n",
        "print(c)"
      ],
      "execution_count": 14,
      "outputs": [
        {
          "output_type": "stream",
          "text": [
            "48\n"
          ],
          "name": "stdout"
        }
      ]
    },
    {
      "cell_type": "markdown",
      "metadata": {
        "id": "zcY2PGVxhTUE",
        "colab_type": "text"
      },
      "source": [
        "Question 3:\n",
        " Consider two numbers. Perform their subtraction and if the result of subtraction is greater than\n",
        "25, print their multiplication result else print their division result."
      ]
    },
    {
      "cell_type": "code",
      "metadata": {
        "id": "zYjkvMbNhZY8",
        "colab_type": "code",
        "colab": {
          "base_uri": "https://localhost:8080/",
          "height": 34
        },
        "outputId": "8ec441be-d3e7-4337-8058-77312d04e662"
      },
      "source": [
        "a = 20\n",
        "b = 10\n",
        "c = a - b\n",
        "if c > 25:\n",
        "  print(a*b)\n",
        "else:\n",
        "  print(a/b)"
      ],
      "execution_count": 15,
      "outputs": [
        {
          "output_type": "stream",
          "text": [
            "2.0\n"
          ],
          "name": "stdout"
        }
      ]
    },
    {
      "cell_type": "markdown",
      "metadata": {
        "id": "Pj6_G2-riLo6",
        "colab_type": "text"
      },
      "source": [
        "Question 4:\n",
        "Consider a list of 10 elements of integer values. If the number in the list is divisible by 2, print the\n",
        "result as \"square of that number minus 2\".\n"
      ]
    },
    {
      "cell_type": "code",
      "metadata": {
        "id": "zRMIoqUHiNj5",
        "colab_type": "code",
        "colab": {
          "base_uri": "https://localhost:8080/",
          "height": 153
        },
        "outputId": "74ed6ea7-4261-428e-9553-2bbe1717f1be"
      },
      "source": [
        "l = [2,12,4,24,10,6,8,5,14,9]\n",
        "for i in l:\n",
        "  if i%2 == 0:\n",
        "    print(\"square of that number minus 2\")\n",
        "    i = i+1"
      ],
      "execution_count": 19,
      "outputs": [
        {
          "output_type": "stream",
          "text": [
            "square of that number minus 2\n",
            "square of that number minus 2\n",
            "square of that number minus 2\n",
            "square of that number minus 2\n",
            "square of that number minus 2\n",
            "square of that number minus 2\n",
            "square of that number minus 2\n",
            "square of that number minus 2\n"
          ],
          "name": "stdout"
        }
      ]
    },
    {
      "cell_type": "code",
      "metadata": {
        "id": "UyFjiNqZlGSI",
        "colab_type": "code",
        "colab": {
          "base_uri": "https://localhost:8080/",
          "height": 153
        },
        "outputId": "9929feae-3011-4d72-a884-4e282341a958"
      },
      "source": [
        "l = [2,12,4,24,10,6,8,5,14,9]\n",
        "for i in l:\n",
        "  if i%2 == 0:\n",
        "    print(i**2 - 2)\n",
        "    i = i+1"
      ],
      "execution_count": 20,
      "outputs": [
        {
          "output_type": "stream",
          "text": [
            "2\n",
            "142\n",
            "14\n",
            "574\n",
            "98\n",
            "34\n",
            "62\n",
            "194\n"
          ],
          "name": "stdout"
        }
      ]
    },
    {
      "cell_type": "markdown",
      "metadata": {
        "id": "NkuoaMOwlR_q",
        "colab_type": "text"
      },
      "source": [
        "Question 5:\n",
        "Consider a list of 10 elements. Print all the elements in the list which are greater than 7 when that\n",
        "number is divided 2."
      ]
    },
    {
      "cell_type": "code",
      "metadata": {
        "id": "juZJZqgQlT6D",
        "colab_type": "code",
        "colab": {
          "base_uri": "https://localhost:8080/",
          "height": 85
        },
        "outputId": "f39ca1aa-5a78-4b74-e048-97203cc37765"
      },
      "source": [
        "l = [2,21,4,32,10,6,18,17,14,9]\n",
        "for i in l:\n",
        "  c = i/2\n",
        "  if c > 7:\n",
        "    print(\"The elements in the list which are greater than 7 when divided by 2 is\", i)\n",
        "    i = i+1\n"
      ],
      "execution_count": 25,
      "outputs": [
        {
          "output_type": "stream",
          "text": [
            "The elements in the list which are greater than 7 when divided by 2 is 21\n",
            "The elements in the list which are greater than 7 when divided by 2 is 32\n",
            "The elements in the list which are greater than 7 when divided by 2 is 18\n",
            "The elements in the list which are greater than 7 when divided by 2 is 17\n"
          ],
          "name": "stdout"
        }
      ]
    }
  ]
}