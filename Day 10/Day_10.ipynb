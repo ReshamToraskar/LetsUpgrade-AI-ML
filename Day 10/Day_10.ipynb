{
  "nbformat": 4,
  "nbformat_minor": 0,
  "metadata": {
    "colab": {
      "name": "Day 10.ipynb",
      "provenance": [],
      "collapsed_sections": []
    },
    "kernelspec": {
      "name": "python3",
      "display_name": "Python 3"
    }
  },
  "cells": [
    {
      "cell_type": "markdown",
      "metadata": {
        "id": "f_GiJt2vF9Ws",
        "colab_type": "text"
      },
      "source": [
        "**Hypothesis for Day 7 Dataset on Attrition of employees**"
      ]
    },
    {
      "cell_type": "markdown",
      "metadata": {
        "id": "FvehmJGdGV6M",
        "colab_type": "text"
      },
      "source": [
        "1. Statement: Attrition rate for Employees above age 45 is low. "
      ]
    },
    {
      "cell_type": "markdown",
      "metadata": {
        "id": "v8Y-9FxBIRhL",
        "colab_type": "text"
      },
      "source": [
        "2. Statement: Taking sample of 50, employees with education level of 4 are to stay with the company."
      ]
    },
    {
      "cell_type": "markdown",
      "metadata": {
        "id": "_pizpBVgITkE",
        "colab_type": "text"
      },
      "source": [
        "3. Statement: Maritial status of an employee has no effect on the attrition rate."
      ]
    },
    {
      "cell_type": "markdown",
      "metadata": {
        "id": "3BvFWj2RIja8",
        "colab_type": "text"
      },
      "source": [
        "4. Statement: Employees from sales department are to undergo attrition more often."
      ]
    },
    {
      "cell_type": "markdown",
      "metadata": {
        "id": "_rlUu30IIzFq",
        "colab_type": "text"
      },
      "source": [
        "5. Statement: Employees that are to travel more often are to stay with the company."
      ]
    },
    {
      "cell_type": "markdown",
      "metadata": {
        "id": "oJvyDXvRJWWH",
        "colab_type": "text"
      },
      "source": [
        "6. Statement: Mean age of all the employees is 30."
      ]
    },
    {
      "cell_type": "markdown",
      "metadata": {
        "id": "-TFZmB_-Juzy",
        "colab_type": "text"
      },
      "source": [
        "7. Statement: Mean of monthly income of all the employees is 35000."
      ]
    },
    {
      "cell_type": "markdown",
      "metadata": {
        "id": "SoUqMUrvKCTH",
        "colab_type": "text"
      },
      "source": [
        "8. Statement: The attrition rate is high for the employees with the job role other than Researcher."
      ]
    },
    {
      "cell_type": "markdown",
      "metadata": {
        "id": "zIXkKJDpKXQq",
        "colab_type": "text"
      },
      "source": [
        "9. Statement: Gender of an employee has no effect on the attrition rate."
      ]
    },
    {
      "cell_type": "markdown",
      "metadata": {
        "id": "23KnZeelKgYW",
        "colab_type": "text"
      },
      "source": [
        "10. Statement: Mean distance to travel from for all employees is 12 km."
      ]
    }
  ]
}