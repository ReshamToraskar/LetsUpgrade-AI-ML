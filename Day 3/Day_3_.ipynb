{
  "nbformat": 4,
  "nbformat_minor": 0,
  "metadata": {
    "colab": {
      "name": "Day 3 .ipynb",
      "provenance": []
    },
    "kernelspec": {
      "name": "python3",
      "display_name": "Python 3"
    }
  },
  "cells": [
    {
      "cell_type": "markdown",
      "metadata": {
        "id": "WoVBTUOJKxvf",
        "colab_type": "text"
      },
      "source": [
        "Question 1 :\n",
        "Write a program to subtract two complex numbers in Python."
      ]
    },
    {
      "cell_type": "code",
      "metadata": {
        "id": "aR1N0c3CMA4t",
        "colab_type": "code",
        "colab": {
          "base_uri": "https://localhost:8080/",
          "height": 34
        },
        "outputId": "4f550d94-6cc8-408d-9d02-d5dffde89e32"
      },
      "source": [
        "a = 3+3j\n",
        "b = 5-3j\n",
        "type (a)\n",
        "type (b)\n",
        "c = a - b\n",
        "print(\"The subtraction of two complex numbers is\", c)"
      ],
      "execution_count": 6,
      "outputs": [
        {
          "output_type": "stream",
          "text": [
            "The subtraction of two complex numbers is (-2+6j)\n"
          ],
          "name": "stdout"
        }
      ]
    },
    {
      "cell_type": "markdown",
      "metadata": {
        "id": "2MN9nuE1Nbbt",
        "colab_type": "text"
      },
      "source": [
        "Question 2 :\n",
        "Write a program to find the fourth root of a number."
      ]
    },
    {
      "cell_type": "code",
      "metadata": {
        "id": "l36WuixdNfJN",
        "colab_type": "code",
        "colab": {
          "base_uri": "https://localhost:8080/",
          "height": 34
        },
        "outputId": "dfc02000-26c2-4e56-cf08-cd1c20823001"
      },
      "source": [
        "a = 625\n",
        "b = a**0.25\n",
        "print(\"Fourth root of a given number is\", b)"
      ],
      "execution_count": 9,
      "outputs": [
        {
          "output_type": "stream",
          "text": [
            "Fourth root of a given number is 5.0\n"
          ],
          "name": "stdout"
        }
      ]
    },
    {
      "cell_type": "markdown",
      "metadata": {
        "id": "n8gVe4lyOcTg",
        "colab_type": "text"
      },
      "source": [
        "Question 3:\n",
        "Write a program to swap two numbers in Python with the help of a temporary variable."
      ]
    },
    {
      "cell_type": "code",
      "metadata": {
        "id": "58UNYZC8OgbV",
        "colab_type": "code",
        "colab": {
          "base_uri": "https://localhost:8080/",
          "height": 34
        },
        "outputId": "350f49ac-e9a3-4d7b-d016-271ea92d9c39"
      },
      "source": [
        "a = 4\n",
        "b = 3\n",
        "c = b \n",
        "#c is a tepmporary variable\n",
        "b = a\n",
        "a = c\n",
        "print(\"The swaped numbers are\", a,b) "
      ],
      "execution_count": 12,
      "outputs": [
        {
          "output_type": "stream",
          "text": [
            "The swaped numbers are 3 4\n"
          ],
          "name": "stdout"
        }
      ]
    },
    {
      "cell_type": "markdown",
      "metadata": {
        "id": "2n9Ad4U9O1oZ",
        "colab_type": "text"
      },
      "source": [
        "Question 4:\n",
        "Write a program to swap two numbers in Python without using a temporary variable.\n"
      ]
    },
    {
      "cell_type": "code",
      "metadata": {
        "id": "qhuMtIJcO409",
        "colab_type": "code",
        "colab": {
          "base_uri": "https://localhost:8080/",
          "height": 34
        },
        "outputId": "4465507f-38d8-448e-cc88-ba45a46a6f47"
      },
      "source": [
        "a = 5\n",
        "b = 7\n",
        "a = a + b\n",
        "b = a - b\n",
        "a = a - b\n",
        "print(a,b)\n"
      ],
      "execution_count": 18,
      "outputs": [
        {
          "output_type": "stream",
          "text": [
            "7 5\n"
          ],
          "name": "stdout"
        }
      ]
    },
    {
      "cell_type": "markdown",
      "metadata": {
        "id": "vhUTq3s_StjU",
        "colab_type": "text"
      },
      "source": [
        "Question 5:\n",
        "Write a program to convert fahrenheit to kelvin and celsius both."
      ]
    },
    {
      "cell_type": "code",
      "metadata": {
        "id": "jyjByfkpSxH9",
        "colab_type": "code",
        "colab": {
          "base_uri": "https://localhost:8080/",
          "height": 68
        },
        "outputId": "a2513c15-0f58-4498-b329-90bb204a1d9e"
      },
      "source": [
        "a = 45.2\n",
        "#temperature in fahrenheit\n",
        "print(\"Temeprature in fahrenheit is\",a)\n",
        "b = (a - 32)*5/9 + 273.15\n",
        "print(\"Fahrenheit to kelvin is\", b)\n",
        "c = (a - 32)*5/9\n",
        "print(\"Fahrenheit to celsius is\", c)"
      ],
      "execution_count": 25,
      "outputs": [
        {
          "output_type": "stream",
          "text": [
            "Temeprature in fahrenheit is 45.2\n",
            "Fahrenheit to kelvin is 280.4833333333333\n",
            "Fahrenheit to celsius is 7.333333333333335\n"
          ],
          "name": "stdout"
        }
      ]
    },
    {
      "cell_type": "markdown",
      "metadata": {
        "id": "yGqS8V2hUvdf",
        "colab_type": "text"
      },
      "source": [
        "Question 6:\n",
        "Write a program to demonstrate all the available data types in Python. Hint: Use type() function."
      ]
    },
    {
      "cell_type": "code",
      "metadata": {
        "id": "rE56EIbtUxsB",
        "colab_type": "code",
        "colab": {
          "base_uri": "https://localhost:8080/",
          "height": 136
        },
        "outputId": "a41fc441-7f4c-42ab-aa5a-f1289aa479e8"
      },
      "source": [
        "a = 33\n",
        "print(type (a))\n",
        "b = 62.5\n",
        "print(type (b))\n",
        "c = 33+45j\n",
        "print(type (c))\n",
        "d = \"LetsUpgrade\"\n",
        "print(type (d))\n",
        "e = ( 1, 2, 3, 4)\n",
        "print(type (e))\n",
        "f = [12, 32, 45, 43, \"Lets\"]\n",
        "print(type (f))\n",
        "g = {\"hi\": \"to you\", \"age\": 26}\n",
        "print(type (g))\n"
      ],
      "execution_count": 29,
      "outputs": [
        {
          "output_type": "stream",
          "text": [
            "<class 'int'>\n",
            "<class 'float'>\n",
            "<class 'complex'>\n",
            "<class 'str'>\n",
            "<class 'tuple'>\n",
            "<class 'list'>\n",
            "<class 'dict'>\n"
          ],
          "name": "stdout"
        }
      ]
    },
    {
      "cell_type": "markdown",
      "metadata": {
        "id": "T1qbmpK8XJIo",
        "colab_type": "text"
      },
      "source": [
        "Question 7:\n",
        "Create a Markdown cell in jupyter and list the steps discussed in the session by Dr. Darshan\n",
        "Ingle sir to create Github profile and upload Githubs Assignment link."
      ]
    },
    {
      "cell_type": "markdown",
      "metadata": {
        "id": "atr0PGLdZCmQ",
        "colab_type": "text"
      },
      "source": [
        "**Steps to create Github profile and uplaod Githus Assignment link**"
      ]
    },
    {
      "cell_type": "markdown",
      "metadata": {
        "id": "mYDPXQoKZsFs",
        "colab_type": "text"
      },
      "source": [
        "1.Go to Github.com"
      ]
    },
    {
      "cell_type": "markdown",
      "metadata": {
        "id": "q1M9eyQIaZi4",
        "colab_type": "text"
      },
      "source": [
        "2.Sign in using your gmail account and create your profile.   create folders in your pc for each day's assignment and put the assignment's file in that folder."
      ]
    },
    {
      "cell_type": "markdown",
      "metadata": {
        "id": "X6tiUjula0LC",
        "colab_type": "text"
      },
      "source": [
        "3.Click on Repositories and then click on 'New' to create your repository with a name 'LetsUpgrade AI-ML'. Keep the profile Public."
      ]
    },
    {
      "cell_type": "markdown",
      "metadata": {
        "id": "6sRe5eNdaaTl",
        "colab_type": "text"
      },
      "source": [
        "4.After that click on the repository's name and click on the 'umplad an existing file' option. Drag and drop your Assignment's folder and click on 'commit changes'."
      ]
    },
    {
      "cell_type": "markdown",
      "metadata": {
        "id": "Ollu0LiRcFQU",
        "colab_type": "text"
      },
      "source": [
        "5.For uploading Assignment using Google colab just save your files as ipynb and then uplao them into your Github repository."
      ]
    },
    {
      "cell_type": "markdown",
      "metadata": {
        "id": "vC-ZhmkTcbVF",
        "colab_type": "text"
      },
      "source": [
        "6.Then go to the link of Assignment submission form and copy the URL of the Folder and paste in the Assignment submission form."
      ]
    }
  ]
}