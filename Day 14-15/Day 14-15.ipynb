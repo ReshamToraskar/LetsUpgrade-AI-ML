{
 "cells": [
  {
   "cell_type": "markdown",
   "metadata": {},
   "source": [
    "**1. Create a 3x3x3 array with random values**"
   ]
  },
  {
   "cell_type": "code",
   "execution_count": 50,
   "metadata": {},
   "outputs": [
    {
     "name": "stdout",
     "output_type": "stream",
     "text": [
      "[[ 1  2  4]\n",
      " [11 23  5]\n",
      " [ 3  7  9]]\n",
      "[[[0.41327218 0.51263764 0.46978091]\n",
      "  [0.96047337 0.89802592 0.36145855]\n",
      "  [0.3971021  0.55665035 0.73410826]]\n",
      "\n",
      " [[0.76282004 0.32927348 0.67625413]\n",
      "  [0.27975046 0.65364436 0.14011349]\n",
      "  [0.48918241 0.23832331 0.89108227]]\n",
      "\n",
      " [[0.95446818 0.6555799  0.3511302 ]\n",
      "  [0.22109133 0.20345158 0.42753487]\n",
      "  [0.15489055 0.32563249 0.26058857]]]\n"
     ]
    }
   ],
   "source": [
    "import numpy as np\n",
    "c = np.array([[1,2,4],[11,23,5],[3,7,9]])\n",
    "print(c)\n",
    "Z = np.random.random((3,3,3))\n",
    "print(Z)"
   ]
  },
  {
   "cell_type": "markdown",
   "metadata": {},
   "source": [
    "**2.Create a 5x5 matrix with values 1,2,3,4 just below the diagonal**"
   ]
  },
  {
   "cell_type": "code",
   "execution_count": 5,
   "metadata": {},
   "outputs": [
    {
     "name": "stdout",
     "output_type": "stream",
     "text": [
      "[[0 0 0 0 0]\n",
      " [1 0 0 0 0]\n",
      " [0 2 0 0 0]\n",
      " [0 0 3 0 0]\n",
      " [0 0 0 4 0]]\n"
     ]
    }
   ],
   "source": [
    "a = np.diag(1+np.arange(4),k=-1)\n",
    "print(a)"
   ]
  },
  {
   "cell_type": "markdown",
   "metadata": {},
   "source": [
    "**3.Create a 8x8 matrix and fill it with a checkerboard pattern**"
   ]
  },
  {
   "cell_type": "code",
   "execution_count": 7,
   "metadata": {},
   "outputs": [
    {
     "name": "stdout",
     "output_type": "stream",
     "text": [
      "[[0 1 0 1 0 1 0 1]\n",
      " [1 0 1 0 1 0 1 0]\n",
      " [0 1 0 1 0 1 0 1]\n",
      " [1 0 1 0 1 0 1 0]\n",
      " [0 1 0 1 0 1 0 1]\n",
      " [1 0 1 0 1 0 1 0]\n",
      " [0 1 0 1 0 1 0 1]\n",
      " [1 0 1 0 1 0 1 0]]\n"
     ]
    }
   ],
   "source": [
    "b = np.zeros((8,8),dtype=int)\n",
    "b[1::2,::2] = 1\n",
    "b[::2,1::2] = 1\n",
    "print(b)"
   ]
  },
  {
   "cell_type": "markdown",
   "metadata": {},
   "source": [
    "**4. Normalize a 5x5 random matrix**"
   ]
  },
  {
   "cell_type": "code",
   "execution_count": 9,
   "metadata": {},
   "outputs": [
    {
     "name": "stdout",
     "output_type": "stream",
     "text": [
      "[[ 1.1949648  -0.43305745 -0.93276118 -0.33206587 -0.33016007]\n",
      " [-0.40366284  1.2508433   1.30031608 -1.21842974 -0.33001724]\n",
      " [-1.03790451 -1.73206445 -0.01818914  1.40332169 -1.66207437]\n",
      " [ 0.07666804 -0.33343062 -0.2219525   1.56665963 -1.15529613]\n",
      " [ 1.41881674 -0.32473964  1.13548606  1.05174067  0.06698875]]\n"
     ]
    }
   ],
   "source": [
    "d = np.random.random((5,5))\n",
    "d = (d - np.mean (d)) / (np.std (d))\n",
    "print(d)"
   ]
  },
  {
   "cell_type": "markdown",
   "metadata": {},
   "source": [
    "**5. How to find common values between two arrays?**"
   ]
  },
  {
   "cell_type": "code",
   "execution_count": 12,
   "metadata": {},
   "outputs": [
    {
     "name": "stdout",
     "output_type": "stream",
     "text": [
      "[0 1 2 5 7]\n"
     ]
    }
   ],
   "source": [
    "a1 = np.random.randint(0,10,10)\n",
    "a2 = np.random.randint(0,10,10)\n",
    "print(np.intersect1d(a1,a2))"
   ]
  },
  {
   "cell_type": "markdown",
   "metadata": {},
   "source": [
    "**6.How to get the dates of yesterday, today and tomorrow?**"
   ]
  },
  {
   "cell_type": "code",
   "execution_count": 52,
   "metadata": {},
   "outputs": [
    {
     "name": "stdout",
     "output_type": "stream",
     "text": [
      "Yesterday's date was:  2020-07-30\n",
      "Today's date is:  2020-07-31\n",
      "Tomorrow's date is:  2020-08-01\n"
     ]
    }
   ],
   "source": [
    "yesterday = np.datetime64('today') - np.timedelta64(1)\n",
    "today     = np.datetime64('today')\n",
    "tomorrow  = np.datetime64('today') + np.timedelta64(1)\n",
    "print(\"Yesterday\\'s date was: \",yesterday)\n",
    "print(\"Today\\'s date is: \",today)\n",
    "print(\"Tomorrow\\'s date is: \",tomorrow)"
   ]
  },
  {
   "cell_type": "markdown",
   "metadata": {},
   "source": [
    "**7. Consider two random array A and B, check if they are equal**"
   ]
  },
  {
   "cell_type": "code",
   "execution_count": 20,
   "metadata": {},
   "outputs": [
    {
     "name": "stdout",
     "output_type": "stream",
     "text": [
      "True\n",
      "True\n"
     ]
    }
   ],
   "source": [
    "A = np.random.randint(0,1,2)\n",
    "B = np.random.randint(0,1,2)\n",
    "\n",
    "equal = np.allclose(A,B)\n",
    "print(equal)\n",
    "\n",
    "equal = np.array_equal(A,B)\n",
    "print(equal)\n"
   ]
  },
  {
   "cell_type": "markdown",
   "metadata": {},
   "source": [
    "**8.Create random vector of size 10 and replace the maximum value by 0**"
   ]
  },
  {
   "cell_type": "code",
   "execution_count": 58,
   "metadata": {},
   "outputs": [
    {
     "name": "stdout",
     "output_type": "stream",
     "text": [
      "9\n",
      "[0.36415671 0.06073392 0.48073857 0.42255314 0.76959605 0.32640933\n",
      " 0.         0.73190617 0.14393529 0.86627922]\n"
     ]
    }
   ],
   "source": [
    "a = np.random.random(10)\n",
    "a[a.argmax()] = 0\n",
    "print(a.argmax())\n",
    "print(a)"
   ]
  },
  {
   "cell_type": "markdown",
   "metadata": {},
   "source": [
    "**9. How to print all the values of an array?**"
   ]
  },
  {
   "cell_type": "code",
   "execution_count": 54,
   "metadata": {},
   "outputs": [
    {
     "name": "stdout",
     "output_type": "stream",
     "text": [
      "[[1. 1. 1. 1. 1. 1. 1. 1. 1. 1. 1. 1.]\n",
      " [1. 1. 1. 1. 1. 1. 1. 1. 1. 1. 1. 1.]\n",
      " [1. 1. 1. 1. 1. 1. 1. 1. 1. 1. 1. 1.]\n",
      " [1. 1. 1. 1. 1. 1. 1. 1. 1. 1. 1. 1.]\n",
      " [1. 1. 1. 1. 1. 1. 1. 1. 1. 1. 1. 1.]\n",
      " [1. 1. 1. 1. 1. 1. 1. 1. 1. 1. 1. 1.]\n",
      " [1. 1. 1. 1. 1. 1. 1. 1. 1. 1. 1. 1.]\n",
      " [1. 1. 1. 1. 1. 1. 1. 1. 1. 1. 1. 1.]\n",
      " [1. 1. 1. 1. 1. 1. 1. 1. 1. 1. 1. 1.]\n",
      " [1. 1. 1. 1. 1. 1. 1. 1. 1. 1. 1. 1.]\n",
      " [1. 1. 1. 1. 1. 1. 1. 1. 1. 1. 1. 1.]\n",
      " [1. 1. 1. 1. 1. 1. 1. 1. 1. 1. 1. 1.]]\n"
     ]
    }
   ],
   "source": [
    "np.set_printoptions(threshold=float(\"inf\"))\n",
    "a = np.ones((12,12))\n",
    "print(a)"
   ]
  },
  {
   "cell_type": "markdown",
   "metadata": {},
   "source": [
    "**10.Subtract the mean of each row of a matrix**"
   ]
  },
  {
   "cell_type": "code",
   "execution_count": 55,
   "metadata": {},
   "outputs": [
    {
     "name": "stdout",
     "output_type": "stream",
     "text": [
      "[[ 0.37779774 -0.15423225  0.28173563 -0.49500383  0.12840053 -0.38501344\n",
      "  -0.4915521   0.15351605  0.35263056  0.23172112]\n",
      " [-0.14934979 -0.29778966 -0.28914403 -0.05783288 -0.06895101  0.02759014\n",
      "   0.15291382  0.58985515 -0.34588723  0.43859549]\n",
      " [ 0.14787049  0.07258518 -0.17231551  0.03283186  0.18016313 -0.02052004\n",
      "   0.41398359 -0.06065118 -0.05876004 -0.53518749]\n",
      " [ 0.39736761  0.16111143 -0.48266427 -0.00141213 -0.18034842 -0.3004076\n",
      "   0.30546683 -0.4500241   0.38991373  0.16099691]\n",
      " [ 0.2117698  -0.01004074 -0.15668852 -0.18175454  0.22496849  0.23893265\n",
      "   0.0149843   0.15992931 -0.21191154 -0.29018919]]\n"
     ]
    }
   ],
   "source": [
    "A = np.random.rand(5, 10)\n",
    "\n",
    "B = A - A.mean(axis=1, keepdims=True)\n",
    "print(B)"
   ]
  },
  {
   "cell_type": "markdown",
   "metadata": {},
   "source": [
    "**11.Consider a given vector, how to add 1 to each element indexed by a second vector (be careful with repeated indices)?**"
   ]
  },
  {
   "cell_type": "code",
   "execution_count": 33,
   "metadata": {},
   "outputs": [
    {
     "name": "stdout",
     "output_type": "stream",
     "text": [
      "[5. 3. 3. 3. 2. 2. 2. 4.]\n",
      "[9. 5. 5. 5. 3. 3. 3. 7.]\n"
     ]
    }
   ],
   "source": [
    "Z = np.ones(8)\n",
    "I = np.random.randint(0,len(Z),16)\n",
    "Z += np.bincount(I, minlength=len(Z))\n",
    "print(Z)\n",
    "np.add.at(Z, I, 1)\n",
    "print(Z)"
   ]
  },
  {
   "cell_type": "markdown",
   "metadata": {},
   "source": [
    "**12.How to get the diagonal of a dot product?**"
   ]
  },
  {
   "cell_type": "code",
   "execution_count": 36,
   "metadata": {},
   "outputs": [
    {
     "name": "stdout",
     "output_type": "stream",
     "text": [
      "[[0.77760001 0.30028325 0.76803258 0.358567  ]\n",
      " [0.87792471 0.04120568 0.65015963 0.0133918 ]\n",
      " [0.42768581 0.98979302 0.05993064 0.10105921]\n",
      " [0.51814463 0.15160832 0.19615925 0.86624371]]\n",
      "[[0.31424717 0.44822177 0.49204866 0.95986845]\n",
      " [0.90922359 0.42404819 0.39844282 0.31450396]\n",
      " [0.18088124 0.95297172 0.52124168 0.78300676]\n",
      " [0.94079606 0.23254898 0.00439851 0.57351421]]\n",
      "diagonal of a dot product is :  [0.99364433 1.03367614 0.63650101 1.19542919]\n"
     ]
    }
   ],
   "source": [
    "A = np.random.uniform(0,1,(4,4))\n",
    "B = np.random.uniform(0,1,(4,4))\n",
    "print(A)\n",
    "print(B)\n",
    "\n",
    "prod=np.sum(A * B.T, axis=1)\n",
    "print(\"diagonal of a dot product is : \",prod)"
   ]
  },
  {
   "cell_type": "markdown",
   "metadata": {},
   "source": [
    "**13.How to find the most frequent value in an array?**"
   ]
  },
  {
   "cell_type": "code",
   "execution_count": 61,
   "metadata": {},
   "outputs": [
    {
     "name": "stdout",
     "output_type": "stream",
     "text": [
      "[3 4 7 6 2 2 0 2 6 3 7 4 9 5 8 2 9 8 6 3 9 8 7 5 5 5 6 2 7 5 0 5 8 0 6]\n",
      "5\n"
     ]
    }
   ],
   "source": [
    "a = np.random.randint(0,10,35)\n",
    "print(a)\n",
    "print(np.bincount(a).argmax())"
   ]
  },
  {
   "cell_type": "markdown",
   "metadata": {},
   "source": [
    "**14.How to get the n largest values of an array**"
   ]
  },
  {
   "cell_type": "code",
   "execution_count": 64,
   "metadata": {},
   "outputs": [
    {
     "name": "stdout",
     "output_type": "stream",
     "text": [
      "[995 996 997 998 999]\n"
     ]
    }
   ],
   "source": [
    "a = np.arange(1000)\n",
    "np.random.shuffle(a)\n",
    "n = 5\n",
    "\n",
    "print(a[np.argsort(a)[-n:]])\n"
   ]
  },
  {
   "cell_type": "markdown",
   "metadata": {},
   "source": [
    "**15.How to create a record array from a regular array?**"
   ]
  },
  {
   "cell_type": "code",
   "execution_count": 45,
   "metadata": {},
   "outputs": [
    {
     "name": "stdout",
     "output_type": "stream",
     "text": [
      "[(b'hi', 1. , 1) (b'all', 2.6, 3)]\n"
     ]
    }
   ],
   "source": [
    "a = np.array([(\"hi\", 1, 1),\n",
    "              (\"all\", 2.6, 3)])\n",
    "b = np.core.records.fromarrays(Z.T,\n",
    "                               names='col1, col2, col3',\n",
    "                               formats = 'S8, f8, i8')\n",
    "print(b)"
   ]
  },
  {
   "cell_type": "code",
   "execution_count": null,
   "metadata": {},
   "outputs": [],
   "source": []
  }
 ],
 "metadata": {
  "kernelspec": {
   "display_name": "Python 3",
   "language": "python",
   "name": "python3"
  },
  "language_info": {
   "codemirror_mode": {
    "name": "ipython",
    "version": 3
   },
   "file_extension": ".py",
   "mimetype": "text/x-python",
   "name": "python",
   "nbconvert_exporter": "python",
   "pygments_lexer": "ipython3",
   "version": "3.7.6"
  }
 },
 "nbformat": 4,
 "nbformat_minor": 4
}
